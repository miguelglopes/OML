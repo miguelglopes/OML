{
 "cells": [
  {
   "cell_type": "code",
   "execution_count": 13,
   "metadata": {},
   "outputs": [],
   "source": [
    "import requests\n",
    "import pandas as pd"
   ]
  },
  {
   "cell_type": "code",
   "execution_count": 14,
   "metadata": {},
   "outputs": [],
   "source": [
    "# Ler os dados\n",
    "data_path = '../../data/diabetes_test.csv'\n",
    "df = pd.read_csv(data_path)"
   ]
  },
  {
   "cell_type": "code",
   "execution_count": 22,
   "metadata": {},
   "outputs": [],
   "source": [
    "# vamos usar uma linha aleatória do dataframe apenas para ter um exemplo de input\n",
    "input_df = df.sample(10)"
   ]
  },
  {
   "cell_type": "code",
   "execution_count": 23,
   "metadata": {},
   "outputs": [
    {
     "data": {
      "text/html": [
       "<div>\n",
       "<style scoped>\n",
       "    .dataframe tbody tr th:only-of-type {\n",
       "        vertical-align: middle;\n",
       "    }\n",
       "\n",
       "    .dataframe tbody tr th {\n",
       "        vertical-align: top;\n",
       "    }\n",
       "\n",
       "    .dataframe thead th {\n",
       "        text-align: right;\n",
       "    }\n",
       "</style>\n",
       "<table border=\"1\" class=\"dataframe\">\n",
       "  <thead>\n",
       "    <tr style=\"text-align: right;\">\n",
       "      <th></th>\n",
       "      <th>Pregnancies</th>\n",
       "      <th>Glucose</th>\n",
       "      <th>BloodPressure</th>\n",
       "      <th>SkinThickness</th>\n",
       "      <th>Insulin</th>\n",
       "      <th>BMI</th>\n",
       "      <th>DiabetesPedigreeFunction</th>\n",
       "      <th>Age</th>\n",
       "      <th>Outcome</th>\n",
       "    </tr>\n",
       "  </thead>\n",
       "  <tbody>\n",
       "    <tr>\n",
       "      <th>63</th>\n",
       "      <td>3</td>\n",
       "      <td>158</td>\n",
       "      <td>70</td>\n",
       "      <td>30</td>\n",
       "      <td>328</td>\n",
       "      <td>35.5</td>\n",
       "      <td>0.344</td>\n",
       "      <td>35</td>\n",
       "      <td>1</td>\n",
       "    </tr>\n",
       "    <tr>\n",
       "      <th>93</th>\n",
       "      <td>2</td>\n",
       "      <td>90</td>\n",
       "      <td>80</td>\n",
       "      <td>14</td>\n",
       "      <td>55</td>\n",
       "      <td>24.4</td>\n",
       "      <td>0.249</td>\n",
       "      <td>24</td>\n",
       "      <td>0</td>\n",
       "    </tr>\n",
       "    <tr>\n",
       "      <th>3</th>\n",
       "      <td>7</td>\n",
       "      <td>150</td>\n",
       "      <td>78</td>\n",
       "      <td>29</td>\n",
       "      <td>126</td>\n",
       "      <td>35.2</td>\n",
       "      <td>0.692</td>\n",
       "      <td>54</td>\n",
       "      <td>1</td>\n",
       "    </tr>\n",
       "    <tr>\n",
       "      <th>103</th>\n",
       "      <td>1</td>\n",
       "      <td>181</td>\n",
       "      <td>78</td>\n",
       "      <td>42</td>\n",
       "      <td>293</td>\n",
       "      <td>40.0</td>\n",
       "      <td>1.258</td>\n",
       "      <td>22</td>\n",
       "      <td>1</td>\n",
       "    </tr>\n",
       "    <tr>\n",
       "      <th>66</th>\n",
       "      <td>3</td>\n",
       "      <td>80</td>\n",
       "      <td>0</td>\n",
       "      <td>0</td>\n",
       "      <td>0</td>\n",
       "      <td>0.0</td>\n",
       "      <td>0.174</td>\n",
       "      <td>22</td>\n",
       "      <td>0</td>\n",
       "    </tr>\n",
       "    <tr>\n",
       "      <th>21</th>\n",
       "      <td>5</td>\n",
       "      <td>162</td>\n",
       "      <td>104</td>\n",
       "      <td>0</td>\n",
       "      <td>0</td>\n",
       "      <td>37.7</td>\n",
       "      <td>0.151</td>\n",
       "      <td>52</td>\n",
       "      <td>1</td>\n",
       "    </tr>\n",
       "    <tr>\n",
       "      <th>89</th>\n",
       "      <td>0</td>\n",
       "      <td>107</td>\n",
       "      <td>62</td>\n",
       "      <td>30</td>\n",
       "      <td>74</td>\n",
       "      <td>36.6</td>\n",
       "      <td>0.757</td>\n",
       "      <td>25</td>\n",
       "      <td>1</td>\n",
       "    </tr>\n",
       "    <tr>\n",
       "      <th>92</th>\n",
       "      <td>10</td>\n",
       "      <td>90</td>\n",
       "      <td>85</td>\n",
       "      <td>32</td>\n",
       "      <td>0</td>\n",
       "      <td>34.9</td>\n",
       "      <td>0.825</td>\n",
       "      <td>56</td>\n",
       "      <td>1</td>\n",
       "    </tr>\n",
       "    <tr>\n",
       "      <th>106</th>\n",
       "      <td>5</td>\n",
       "      <td>139</td>\n",
       "      <td>80</td>\n",
       "      <td>35</td>\n",
       "      <td>160</td>\n",
       "      <td>31.6</td>\n",
       "      <td>0.361</td>\n",
       "      <td>25</td>\n",
       "      <td>1</td>\n",
       "    </tr>\n",
       "    <tr>\n",
       "      <th>15</th>\n",
       "      <td>8</td>\n",
       "      <td>65</td>\n",
       "      <td>72</td>\n",
       "      <td>23</td>\n",
       "      <td>0</td>\n",
       "      <td>32.0</td>\n",
       "      <td>0.600</td>\n",
       "      <td>42</td>\n",
       "      <td>0</td>\n",
       "    </tr>\n",
       "  </tbody>\n",
       "</table>\n",
       "</div>"
      ],
      "text/plain": [
       "     Pregnancies  Glucose  BloodPressure  SkinThickness  Insulin   BMI  \\\n",
       "63             3      158             70             30      328  35.5   \n",
       "93             2       90             80             14       55  24.4   \n",
       "3              7      150             78             29      126  35.2   \n",
       "103            1      181             78             42      293  40.0   \n",
       "66             3       80              0              0        0   0.0   \n",
       "21             5      162            104              0        0  37.7   \n",
       "89             0      107             62             30       74  36.6   \n",
       "92            10       90             85             32        0  34.9   \n",
       "106            5      139             80             35      160  31.6   \n",
       "15             8       65             72             23        0  32.0   \n",
       "\n",
       "     DiabetesPedigreeFunction  Age  Outcome  \n",
       "63                      0.344   35        1  \n",
       "93                      0.249   24        0  \n",
       "3                       0.692   54        1  \n",
       "103                     1.258   22        1  \n",
       "66                      0.174   22        0  \n",
       "21                      0.151   52        1  \n",
       "89                      0.757   25        1  \n",
       "92                      0.825   56        1  \n",
       "106                     0.361   25        1  \n",
       "15                      0.600   42        0  "
      ]
     },
     "execution_count": 23,
     "metadata": {},
     "output_type": "execute_result"
    }
   ],
   "source": [
    "input_df"
   ]
  },
  {
   "cell_type": "code",
   "execution_count": 24,
   "metadata": {},
   "outputs": [
    {
     "data": {
      "text/html": [
       "<div>\n",
       "<style scoped>\n",
       "    .dataframe tbody tr th:only-of-type {\n",
       "        vertical-align: middle;\n",
       "    }\n",
       "\n",
       "    .dataframe tbody tr th {\n",
       "        vertical-align: top;\n",
       "    }\n",
       "\n",
       "    .dataframe thead th {\n",
       "        text-align: right;\n",
       "    }\n",
       "</style>\n",
       "<table border=\"1\" class=\"dataframe\">\n",
       "  <thead>\n",
       "    <tr style=\"text-align: right;\">\n",
       "      <th></th>\n",
       "      <th>Pregnancies</th>\n",
       "      <th>Glucose</th>\n",
       "      <th>BloodPressure</th>\n",
       "      <th>SkinThickness</th>\n",
       "      <th>Insulin</th>\n",
       "      <th>BMI</th>\n",
       "      <th>DiabetesPedigreeFunction</th>\n",
       "      <th>Age</th>\n",
       "    </tr>\n",
       "  </thead>\n",
       "  <tbody>\n",
       "    <tr>\n",
       "      <th>63</th>\n",
       "      <td>3</td>\n",
       "      <td>158</td>\n",
       "      <td>70</td>\n",
       "      <td>30</td>\n",
       "      <td>328</td>\n",
       "      <td>35.5</td>\n",
       "      <td>0.344</td>\n",
       "      <td>35</td>\n",
       "    </tr>\n",
       "    <tr>\n",
       "      <th>93</th>\n",
       "      <td>2</td>\n",
       "      <td>90</td>\n",
       "      <td>80</td>\n",
       "      <td>14</td>\n",
       "      <td>55</td>\n",
       "      <td>24.4</td>\n",
       "      <td>0.249</td>\n",
       "      <td>24</td>\n",
       "    </tr>\n",
       "    <tr>\n",
       "      <th>3</th>\n",
       "      <td>7</td>\n",
       "      <td>150</td>\n",
       "      <td>78</td>\n",
       "      <td>29</td>\n",
       "      <td>126</td>\n",
       "      <td>35.2</td>\n",
       "      <td>0.692</td>\n",
       "      <td>54</td>\n",
       "    </tr>\n",
       "    <tr>\n",
       "      <th>103</th>\n",
       "      <td>1</td>\n",
       "      <td>181</td>\n",
       "      <td>78</td>\n",
       "      <td>42</td>\n",
       "      <td>293</td>\n",
       "      <td>40.0</td>\n",
       "      <td>1.258</td>\n",
       "      <td>22</td>\n",
       "    </tr>\n",
       "    <tr>\n",
       "      <th>66</th>\n",
       "      <td>3</td>\n",
       "      <td>80</td>\n",
       "      <td>0</td>\n",
       "      <td>0</td>\n",
       "      <td>0</td>\n",
       "      <td>0.0</td>\n",
       "      <td>0.174</td>\n",
       "      <td>22</td>\n",
       "    </tr>\n",
       "    <tr>\n",
       "      <th>21</th>\n",
       "      <td>5</td>\n",
       "      <td>162</td>\n",
       "      <td>104</td>\n",
       "      <td>0</td>\n",
       "      <td>0</td>\n",
       "      <td>37.7</td>\n",
       "      <td>0.151</td>\n",
       "      <td>52</td>\n",
       "    </tr>\n",
       "    <tr>\n",
       "      <th>89</th>\n",
       "      <td>0</td>\n",
       "      <td>107</td>\n",
       "      <td>62</td>\n",
       "      <td>30</td>\n",
       "      <td>74</td>\n",
       "      <td>36.6</td>\n",
       "      <td>0.757</td>\n",
       "      <td>25</td>\n",
       "    </tr>\n",
       "    <tr>\n",
       "      <th>92</th>\n",
       "      <td>10</td>\n",
       "      <td>90</td>\n",
       "      <td>85</td>\n",
       "      <td>32</td>\n",
       "      <td>0</td>\n",
       "      <td>34.9</td>\n",
       "      <td>0.825</td>\n",
       "      <td>56</td>\n",
       "    </tr>\n",
       "    <tr>\n",
       "      <th>106</th>\n",
       "      <td>5</td>\n",
       "      <td>139</td>\n",
       "      <td>80</td>\n",
       "      <td>35</td>\n",
       "      <td>160</td>\n",
       "      <td>31.6</td>\n",
       "      <td>0.361</td>\n",
       "      <td>25</td>\n",
       "    </tr>\n",
       "    <tr>\n",
       "      <th>15</th>\n",
       "      <td>8</td>\n",
       "      <td>65</td>\n",
       "      <td>72</td>\n",
       "      <td>23</td>\n",
       "      <td>0</td>\n",
       "      <td>32.0</td>\n",
       "      <td>0.600</td>\n",
       "      <td>42</td>\n",
       "    </tr>\n",
       "  </tbody>\n",
       "</table>\n",
       "</div>"
      ],
      "text/plain": [
       "     Pregnancies  Glucose  BloodPressure  SkinThickness  Insulin   BMI  \\\n",
       "63             3      158             70             30      328  35.5   \n",
       "93             2       90             80             14       55  24.4   \n",
       "3              7      150             78             29      126  35.2   \n",
       "103            1      181             78             42      293  40.0   \n",
       "66             3       80              0              0        0   0.0   \n",
       "21             5      162            104              0        0  37.7   \n",
       "89             0      107             62             30       74  36.6   \n",
       "92            10       90             85             32        0  34.9   \n",
       "106            5      139             80             35      160  31.6   \n",
       "15             8       65             72             23        0  32.0   \n",
       "\n",
       "     DiabetesPedigreeFunction  Age  \n",
       "63                      0.344   35  \n",
       "93                      0.249   24  \n",
       "3                       0.692   54  \n",
       "103                     1.258   22  \n",
       "66                      0.174   22  \n",
       "21                      0.151   52  \n",
       "89                      0.757   25  \n",
       "92                      0.825   56  \n",
       "106                     0.361   25  \n",
       "15                      0.600   42  "
      ]
     },
     "execution_count": 24,
     "metadata": {},
     "output_type": "execute_result"
    }
   ],
   "source": [
    "# retiramos o target (Outcome) dos dados, para termos o input que o nosso modelo está à espera \n",
    "input_data = input_df.drop(\"Outcome\", axis=1)\n",
    "input_data"
   ]
  },
  {
   "cell_type": "markdown",
   "metadata": {},
   "source": [
    "# mlflow serve"
   ]
  },
  {
   "attachments": {},
   "cell_type": "markdown",
   "metadata": {},
   "source": [
    "O mlflow, através da funcionalidade de serving, permite facilmente expor numa API um modelo guardado no model registry.\n",
    "\n",
    "Esta API aceita pedidos no endpoint `/invocations`"
   ]
  },
  {
   "cell_type": "code",
   "execution_count": 25,
   "metadata": {},
   "outputs": [],
   "source": [
    "# devemos ir à UI do mlflow, À model registry, perceber qual é o input de dados esperado\n",
    "records = input_data.to_dict(orient=\"records\")"
   ]
  },
  {
   "cell_type": "code",
   "execution_count": 26,
   "metadata": {},
   "outputs": [
    {
     "data": {
      "text/plain": [
       "[{'Pregnancies': 3,\n",
       "  'Glucose': 158,\n",
       "  'BloodPressure': 70,\n",
       "  'SkinThickness': 30,\n",
       "  'Insulin': 328,\n",
       "  'BMI': 35.5,\n",
       "  'DiabetesPedigreeFunction': 0.344,\n",
       "  'Age': 35},\n",
       " {'Pregnancies': 2,\n",
       "  'Glucose': 90,\n",
       "  'BloodPressure': 80,\n",
       "  'SkinThickness': 14,\n",
       "  'Insulin': 55,\n",
       "  'BMI': 24.4,\n",
       "  'DiabetesPedigreeFunction': 0.249,\n",
       "  'Age': 24},\n",
       " {'Pregnancies': 7,\n",
       "  'Glucose': 150,\n",
       "  'BloodPressure': 78,\n",
       "  'SkinThickness': 29,\n",
       "  'Insulin': 126,\n",
       "  'BMI': 35.2,\n",
       "  'DiabetesPedigreeFunction': 0.6920000000000001,\n",
       "  'Age': 54},\n",
       " {'Pregnancies': 1,\n",
       "  'Glucose': 181,\n",
       "  'BloodPressure': 78,\n",
       "  'SkinThickness': 42,\n",
       "  'Insulin': 293,\n",
       "  'BMI': 40.0,\n",
       "  'DiabetesPedigreeFunction': 1.258,\n",
       "  'Age': 22},\n",
       " {'Pregnancies': 3,\n",
       "  'Glucose': 80,\n",
       "  'BloodPressure': 0,\n",
       "  'SkinThickness': 0,\n",
       "  'Insulin': 0,\n",
       "  'BMI': 0.0,\n",
       "  'DiabetesPedigreeFunction': 0.174,\n",
       "  'Age': 22},\n",
       " {'Pregnancies': 5,\n",
       "  'Glucose': 162,\n",
       "  'BloodPressure': 104,\n",
       "  'SkinThickness': 0,\n",
       "  'Insulin': 0,\n",
       "  'BMI': 37.7,\n",
       "  'DiabetesPedigreeFunction': 0.151,\n",
       "  'Age': 52},\n",
       " {'Pregnancies': 0,\n",
       "  'Glucose': 107,\n",
       "  'BloodPressure': 62,\n",
       "  'SkinThickness': 30,\n",
       "  'Insulin': 74,\n",
       "  'BMI': 36.6,\n",
       "  'DiabetesPedigreeFunction': 0.757,\n",
       "  'Age': 25},\n",
       " {'Pregnancies': 10,\n",
       "  'Glucose': 90,\n",
       "  'BloodPressure': 85,\n",
       "  'SkinThickness': 32,\n",
       "  'Insulin': 0,\n",
       "  'BMI': 34.9,\n",
       "  'DiabetesPedigreeFunction': 0.825,\n",
       "  'Age': 56},\n",
       " {'Pregnancies': 5,\n",
       "  'Glucose': 139,\n",
       "  'BloodPressure': 80,\n",
       "  'SkinThickness': 35,\n",
       "  'Insulin': 160,\n",
       "  'BMI': 31.6,\n",
       "  'DiabetesPedigreeFunction': 0.361,\n",
       "  'Age': 25},\n",
       " {'Pregnancies': 8,\n",
       "  'Glucose': 65,\n",
       "  'BloodPressure': 72,\n",
       "  'SkinThickness': 23,\n",
       "  'Insulin': 0,\n",
       "  'BMI': 32.0,\n",
       "  'DiabetesPedigreeFunction': 0.6,\n",
       "  'Age': 42}]"
      ]
     },
     "execution_count": 26,
     "metadata": {},
     "output_type": "execute_result"
    }
   ],
   "source": [
    "records"
   ]
  },
  {
   "cell_type": "code",
   "execution_count": 30,
   "metadata": {},
   "outputs": [
    {
     "data": {
      "text/plain": [
       "{'predictions': [1, 0, 1, 1, 0, 1, 0, 1, 0, 0]}"
      ]
     },
     "execution_count": 30,
     "metadata": {},
     "output_type": "execute_result"
    }
   ],
   "source": [
    "response = requests.post(\"http://127.0.0.1:5001/invocations\", json={\"dataframe_records\": records})\n",
    "response.json()"
   ]
  },
  {
   "cell_type": "code",
   "execution_count": 36,
   "metadata": {},
   "outputs": [
    {
     "data": {
      "text/plain": [
       "{'predictions': [1]}"
      ]
     },
     "execution_count": 36,
     "metadata": {},
     "output_type": "execute_result"
    }
   ],
   "source": [
    "response = requests.post(\"http://127.0.0.1:5002/invocations\", json={\"dataframe_records\": [{'Pregnancies': -2,\n",
    "  'Glucose': 158,\n",
    "  'BloodPressure': 70,\n",
    "  'SkinThickness': 30,\n",
    "  'Insulin': 328,\n",
    "  'BMI': 35.5,\n",
    "  'DiabetesPedigreeFunction': 0.344,\n",
    "  'Age': 35}]})\n",
    "response.json()"
   ]
  },
  {
   "cell_type": "code",
   "execution_count": 28,
   "metadata": {},
   "outputs": [
    {
     "data": {
      "text/plain": [
       "{'predictions': [1, 0, 1, 1, 0, 1, 0, 1, 0, 0]}"
      ]
     },
     "execution_count": 28,
     "metadata": {},
     "output_type": "execute_result"
    }
   ],
   "source": [
    "# recebemos uma resposta com a previsão\n",
    "response.json()"
   ]
  },
  {
   "cell_type": "markdown",
   "metadata": {},
   "source": [
    "# FastAPI"
   ]
  },
  {
   "cell_type": "code",
   "execution_count": 37,
   "metadata": {},
   "outputs": [],
   "source": [
    "# devemos ir aos docs da fastapi: http://127.0.0.1:5002/docs para perceber o input esperado\n",
    "request_dict = records[0]"
   ]
  },
  {
   "cell_type": "code",
   "execution_count": 38,
   "metadata": {},
   "outputs": [
    {
     "data": {
      "text/plain": [
       "{'Pregnancies': 3,\n",
       " 'Glucose': 158,\n",
       " 'BloodPressure': 70,\n",
       " 'SkinThickness': 30,\n",
       " 'Insulin': 328,\n",
       " 'BMI': 35.5,\n",
       " 'DiabetesPedigreeFunction': 0.344,\n",
       " 'Age': 35}"
      ]
     },
     "execution_count": 38,
     "metadata": {},
     "output_type": "execute_result"
    }
   ],
   "source": [
    "request_dict"
   ]
  },
  {
   "cell_type": "code",
   "execution_count": null,
   "metadata": {},
   "outputs": [],
   "source": [
    "# fazer pedido à app com os inputs\n",
    "response = requests.post(\"http://127.0.0.1:5003/has_diabetes\", json=request_dict)"
   ]
  },
  {
   "cell_type": "code",
   "execution_count": 42,
   "metadata": {},
   "outputs": [
    {
     "data": {
      "text/plain": [
       "{'prediction': 0}"
      ]
     },
     "execution_count": 42,
     "metadata": {},
     "output_type": "execute_result"
    }
   ],
   "source": [
    "# recebemos uma resposta com a previsão\n",
    "response.json()"
   ]
  },
  {
   "cell_type": "code",
   "execution_count": null,
   "metadata": {},
   "outputs": [],
   "source": []
  }
 ],
 "metadata": {
  "kernelspec": {
   "display_name": "OML",
   "language": "python",
   "name": "python3"
  },
  "language_info": {
   "codemirror_mode": {
    "name": "ipython",
    "version": 3
   },
   "file_extension": ".py",
   "mimetype": "text/x-python",
   "name": "python",
   "nbconvert_exporter": "python",
   "pygments_lexer": "ipython3",
   "version": "3.11.10"
  }
 },
 "nbformat": 4,
 "nbformat_minor": 4
}
